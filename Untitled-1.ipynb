{
 "cells": [
  {
   "cell_type": "code",
   "execution_count": null,
   "metadata": {},
   "outputs": [
    {
     "name": "stdout",
     "output_type": "stream",
     "text": [
      "Explained Variance and Cumulative Variance for PC1 to PC3:\n",
      "  Principal Component  Explained Variance Ratio  Cumulative Variance Ratio\n",
      "0                 PC1                  0.520379                   0.520379\n",
      "1                 PC2                  0.142717                   0.663096\n",
      "2                 PC3                  0.110752                   0.773848\n",
      "\n",
      "Loadings (Contribution of Each of the First 11 Features to PC1 to PC3):\n",
      "     length of patch  width of patch  height of patch  height of substrate  \\\n",
      "PC1        -0.004894        0.059770         0.004230             0.064432   \n",
      "PC2        -0.012305       -0.013879        -0.008578            -0.002984   \n",
      "PC3         0.005707       -0.036499        -0.010962            -0.030202   \n",
      "\n",
      "     height of solder resist layer  radius of the probe     c_pad  c_antipad  \\\n",
      "PC1                      -0.001097             0.003096 -0.003419  -0.004743   \n",
      "PC2                      -0.003461             0.028281  0.000656  -0.015860   \n",
      "PC3                      -0.003279             0.021400  0.003930  -0.012941   \n",
      "\n",
      "      c_probe  dielectric constant of substrate  \\\n",
      "PC1  0.011873                          0.027348   \n",
      "PC2  0.026185                         -0.009752   \n",
      "PC3  0.037344                         -0.036839   \n",
      "\n",
      "     dielectric constant of solder resist layer  \n",
      "PC1                                   -0.000017  \n",
      "PC2                                   -0.013778  \n",
      "PC3                                   -0.004029  \n"
     ]
    }
   ],
   "source": [
    "import pandas as pd\n",
    "from sklearn.decomposition import PCA\n",
    "from sklearn.preprocessing import StandardScaler\n",
    "\n",
    "input_data = pd.read_csv(\"hw1_input.csv\")\n",
    "output_real = pd.read_csv(\"hw1_real.csv\")\n",
    "output_imag = pd.read_csv(\"hw1_img.csv\")\n",
    "\n",
    "combined_data = pd.concat([input_data, output_real, output_imag], axis=1)\n",
    "\n",
    "\n",
    "scaler = StandardScaler()\n",
    "combined_data_scaled = scaler.fit_transform(combined_data)\n",
    "\n",
    "\n",
    "pca = PCA()\n",
    "pca.fit(combined_data_scaled)\n",
    "\n",
    "\n",
    "explained_variance = pca.explained_variance_ratio_[:3]\n",
    "cumulative_variance = explained_variance.cumsum()\n",
    "\n",
    "\n",
    "explained_variance_df = pd.DataFrame({\n",
    "    'Principal Component': [f'PC{i+1}' for i in range(3)],\n",
    "    'Explained Variance Ratio': explained_variance,\n",
    "    'Cumulative Variance Ratio': cumulative_variance\n",
    "})\n",
    "\n",
    "loadings = pca.components_[:3, :11]\n",
    "loadings_df = pd.DataFrame(loadings, columns=combined_data.columns[:11])\n",
    "loadings_df.index = [f'PC{i+1}' for i in range(3)]\n",
    "\n",
    "\n",
    "print(\"Explained Variance and Cumulative Variance for PC1 to PC3:\")\n",
    "print(explained_variance_df)\n",
    "\n",
    "print(\"\\nLoadings (Contribution of Each of the First 11 Features to PC1 to PC3):\")\n",
    "print(loadings_df)\n"
   ]
  },
  {
   "cell_type": "markdown",
   "metadata": {},
   "source": [
    "1-Yes, focusing on the first three components hold nearly the 80% of cumulative variance thus the information, that shows us we can simply explain this data using three components. With just PC1, PC2, and PC3, we capture the most critical design factors. This dimensionality reduction allows us to reduce complexity significantly without losing essential information, we also suggest that these components contain the primary patterns influencing S11 magnitudes."
   ]
  },
  {
   "cell_type": "markdown",
   "metadata": {},
   "source": [
    "2-PC1, PC2, and PC3 together explain 77.4% of the total variance, which is close to the 80% threshold we aim to capture.\n",
    "This means underlying structure represented by these first three components explains that nearly 80% of the variability in the design parameters (and likely much of the impact on S11 magnitude response)   \n"
   ]
  },
  {
   "cell_type": "markdown",
   "metadata": {},
   "source": [
    "3.1  Key Takeaways for PC1\n",
    "\n",
    "Width of patch (0.0598) and height of substrate (0.0644) have the highest positive coefficients in PC1, indicating that they are the strongest contributors to the variance captured by this component.\n",
    "Dielectric constant of substrate (0.0273) also contributes positively, suggesting that the material property related to substrate plays a role in this main pattern.\n",
    "The length of patch and height of patch have near-zero loadings, indicating minimal contribution to PC1.\n",
    "In summary, PC1 is primarily influenced by the width of the patch, height of the substrate, and the dielectric constant of the substrate. These parameters are likely crucial in determining the main geometric and material pattern in the data, which explains the majority of the variance related to S11."
   ]
  },
  {
   "cell_type": "markdown",
   "metadata": {},
   "source": [
    "3.2 Key Takeaways for PC2\n",
    "\n",
    "Radius of the probe (0.0283) and c_probe (0.0262) are the most significant contributors to PC2, indicating that probe positioning and capacitance factors play a prominent role in this secondary pattern.\n",
    "The width of patch and height of substrate show lower, near-zero contributions in PC2 compared to PC1, suggesting that these geometric parameters are less significant in the variation captured by PC2.\n",
    "In summary, PC2 is primarily influenced by probe-related parameters such as radius of the probe and c_probe. This component likely represents variation related to the electrical characteristics and positioning of the probe, rather than overall geometry."
   ]
  },
  {
   "cell_type": "markdown",
   "metadata": {},
   "source": [
    "3.3 Key Takeaways for PC3\n",
    "c_probe (0.0373) and radius of the probe (0.0214) are the main contributors to PC3, indicating that probe-related properties are again significant in this component.\n",
    "Width of patch (-0.0365) and dielectric constant of substrate (-0.0368) have high negative loadings, suggesting that these factors influence the design variability represented in PC3 but in an opposite direction compared to other parameters.\n",
    "Other parameters such as height of patch and c_antipad have lower loadings, indicating they play a smaller role in this component."
   ]
  },
  {
   "cell_type": "code",
   "execution_count": null,
   "metadata": {},
   "outputs": [],
   "source": []
  }
 ],
 "metadata": {
  "kernelspec": {
   "display_name": "base",
   "language": "python",
   "name": "python3"
  },
  "language_info": {
   "codemirror_mode": {
    "name": "ipython",
    "version": 3
   },
   "file_extension": ".py",
   "mimetype": "text/x-python",
   "name": "python",
   "nbconvert_exporter": "python",
   "pygments_lexer": "ipython3",
   "version": "3.9.7"
  }
 },
 "nbformat": 4,
 "nbformat_minor": 2
}
